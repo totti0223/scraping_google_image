{
 "cells": [
  {
   "cell_type": "code",
   "execution_count": 120,
   "metadata": {
    "collapsed": false
   },
   "outputs": [],
   "source": [
    "#https://stackoverflow.com/questions/20716842/python-download-images-from-google-image-search\n",
    "from hashlib import md5\n",
    "from urllib.request import Request\n",
    "from urllib.request import urlopen\n",
    "import urllib.parse\n",
    "from selenium import webdriver\n",
    "from selenium.webdriver.common.keys import Keys\n",
    "import json\n",
    "import os\n",
    "import collections as cl"
   ]
  },
  {
   "cell_type": "code",
   "execution_count": 202,
   "metadata": {
    "collapsed": false,
    "scrolled": true
   },
   "outputs": [],
   "source": [
    "def google_image_search(lang,\n",
    "                        searchterm =\"tomato\",\n",
    "                        json_only=True,\n",
    "                        limit_search=0,\n",
    "                        verbose=False):   \n",
    "    def update_dictionary(d, #d must be a dictionary\n",
    "                          searchterm,\n",
    "                          filename,\n",
    "                          imgurl,\n",
    "                          siteurl,\n",
    "                          imgtype,\n",
    "                          sitetitle,\n",
    "                          imgtitle,\n",
    "                          changeflag):\n",
    "    \n",
    "        text = '' + imgurl\n",
    "        m = md5()\n",
    "        m.update(text.encode('utf-8'))\n",
    "        \n",
    "        tmp = {}\n",
    "        tmp[\"imgurl\"] = imgurl\n",
    "        tmp[\"siteurl\"] = siteurl\n",
    "        tmp[\"imgtype\"] = imgtype\n",
    "        tmp[\"sitetitle\"] = sitetitle\n",
    "        tmp[\"imgtitle\"] = imgtitle\n",
    "        tmp[\"changeflag\"] = changeflag\n",
    "        tmp[\"hash\"] = m.hexdigest()\n",
    "        d[filename] = tmp\n",
    "        return d    \n",
    "    \n",
    "    if not os.path.exists(lang):\n",
    "        os.mkdir(lang)\n",
    "        \n",
    "    searchdir = searchterm.replace(\" \",\"_\")\n",
    "    searchdir = searchterm.replace(\"\\\"\",\"\")\n",
    "    searchterm = urllib.parse.quote(searchterm)\n",
    "    url = \"https://www.google.com/search?gl=us&hl=en&pws=0&gws_rd=cr&q=\"+searchterm+\"&source=lnms&tbm=isch\"\n",
    "    browser = webdriver.Firefox()\n",
    "    browser.get(url)\n",
    "    button_xpath = '//input[@id=\"smb\"]'   \n",
    "    \n",
    "    for _ in range(500):\n",
    "        browser.execute_script(\"window.scrollBy(0,10000)\")\n",
    "        try:\n",
    "            browser.find_element_by_xpath(button_xpath).click()\n",
    "        except:\n",
    "            pass\n",
    "\n",
    "    #count number of search result\n",
    "    result = 0\n",
    "    for x in browser.find_elements_by_xpath('//div[contains(@class,\"rg_meta\")]'):\n",
    "        result += 1\n",
    "    print (result, \"images obtainable from this search\")\n",
    "    \n",
    "    counter = 0\n",
    "    succounter = 0\n",
    "    d = dict()\n",
    "    for x in browser.find_elements_by_xpath('//div[contains(@class,\"rg_meta\")]'):\n",
    "        counter += 1\n",
    "        changeflag = 0\n",
    "\n",
    "        imgurl = json.loads(x.get_attribute('innerHTML'))[\"ou\"]\n",
    "        siteurl = json.loads(x.get_attribute('innerHTML'))[\"ru\"]\n",
    "        imgtype = json.loads(x.get_attribute('innerHTML'))[\"ity\"]\n",
    "        sitetitle = json.loads(x.get_attribute('innerHTML'))[\"pt\"]\n",
    "        imgtitle = json.loads(x.get_attribute('innerHTML'))[\"s\"]\n",
    "        filename = lang + \"_\" + str(succounter) + \".\" + imgtype\n",
    "        \n",
    "        if verbose == True:\n",
    "            print (\"Total Count:\", counter)\n",
    "            print (\"filename\",filename)\n",
    "            print (\"imageURL:\",imgurl)\n",
    "            print (\"siteURL:\",siteurl)\n",
    "            print (\"imgtype:\",imgtype)\n",
    "            print (\"sitetitle:\",sitetitle)\n",
    "            print (\"imgtitle:\",imgtitle)        \n",
    "        \n",
    "        try:\n",
    "            #save image to file when json_only flag is True\n",
    "            if json_only == False:\n",
    "                with urllib.request.urlopen(imgurl) as response:\n",
    "                    raw_img = response.read()      \n",
    "                File = open(os.path.join(lang,filename), \"wb\")\n",
    "                #print (os.path.join(searchdir , filename))\n",
    "                File.write(raw_img)\n",
    "                File.close()\n",
    "                succounter += 1\n",
    "                if verbose == True:\n",
    "                    print (\"Succsessful Count:\", succounter)\n",
    "                    print (\"__________________\\n\")\n",
    "\n",
    "            #create and write json object to file\n",
    "            if imgtype is not None:\n",
    "                if imgtype not in [\"jpg\",\"jpeg\",\"tif\",\"tiff\",\"gif\"]:\n",
    "                    imgtype = \"jpg\"\n",
    "                    changeflag = 1\n",
    "                data = update_dictionary(d,\n",
    "                                         searchterm,\n",
    "                                         filename,\n",
    "                                         imgurl,\n",
    "                                         siteurl,\n",
    "                                         imgtype,\n",
    "                                         sitetitle,\n",
    "                                         imgtitle,\n",
    "                                         changeflag)\n",
    "#                with open(os.path.join(lang,lang+'.json'), 'a') as f:\n",
    "#                    f.write(data)            \n",
    "                if json_only == True:\n",
    "                    succounter += 1\n",
    "        \n",
    "        except Exception as e:\n",
    "            if verbose == True:\n",
    "                print (\"could not retreive the image, and was not recorded to json because of the following reason.\")\n",
    "                print (e)\n",
    "                print (\"__________________\\n\")\n",
    "\n",
    "        if limit_search > 0:\n",
    "            if counter == limit_search:\n",
    "                break\n",
    "    with open(os.path.join(lang,lang+'.json'), 'w') as f:\n",
    "        f.write(json.dumps(d,ensure_ascii=False,indent=True))\n",
    "    browser.quit()"
   ]
  },
  {
   "cell_type": "code",
   "execution_count": 203,
   "metadata": {
    "collapsed": false,
    "scrolled": true
   },
   "outputs": [
    {
     "name": "stdout",
     "output_type": "stream",
     "text": [
      "ENG tomato (\"alternaria solani\" OR \"early blight\")\n",
      "787 images obtainable from this search\n",
      "JPN トマト (\"alternaria solani\" OR 輪紋病)\n",
      "1000 images obtainable from this search\n",
      "CHI (蕃茄 OR 西红柿) (\"alternaria solani\" OR 早疫病)\n",
      "958 images obtainable from this search\n",
      "FRE tomate (\"alternaria solani\" OR alternarienne)\n",
      "838 images obtainable from this search\n"
     ]
    }
   ],
   "source": [
    "searchterm = [['ENG','tomato (\"alternaria solani\" OR \"early blight\")'],\n",
    "              ['JPN','トマト (\"alternaria solani\" OR 輪紋病)'],\n",
    "              ['CHI','(蕃茄 OR 西红柿) (\"alternaria solani\" OR 早疫病)'],\n",
    "              ['FRE','tomate (\"alternaria solani\" OR alternarienne)']\n",
    "             ]\n",
    "for lang, term in searchterm:\n",
    "    print (lang,term)\n",
    "    google_image_search(lang = lang,\n",
    "                        searchterm=term,\n",
    "                        limit_search=0,\n",
    "                        json_only=False,\n",
    "                        verbose=False)"
   ]
  },
  {
   "cell_type": "code",
   "execution_count": null,
   "metadata": {
    "collapsed": false
   },
   "outputs": [],
   "source": []
  },
  {
   "cell_type": "code",
   "execution_count": null,
   "metadata": {
    "collapsed": false
   },
   "outputs": [],
   "source": []
  },
  {
   "cell_type": "code",
   "execution_count": null,
   "metadata": {
    "collapsed": true
   },
   "outputs": [],
   "source": []
  }
 ],
 "metadata": {
  "anaconda-cloud": {},
  "kernelspec": {
   "display_name": "Python [Root]",
   "language": "python",
   "name": "Python [Root]"
  },
  "language_info": {
   "codemirror_mode": {
    "name": "ipython",
    "version": 3
   },
   "file_extension": ".py",
   "mimetype": "text/x-python",
   "name": "python",
   "nbconvert_exporter": "python",
   "pygments_lexer": "ipython3",
   "version": "3.5.2"
  }
 },
 "nbformat": 4,
 "nbformat_minor": 0
}
